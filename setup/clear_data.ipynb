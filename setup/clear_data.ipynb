{
 "cells": [
  {
   "cell_type": "code",
   "execution_count": 11,
   "metadata": {},
   "outputs": [],
   "source": [
    "# insert records into the database \n",
    "import pandas as pd\n",
    "import sqlite3 as sql\n",
    "import os\n",
    "%config SqlMagic.style = '_DEPRECATED_DEFAULT'"
   ]
  },
  {
   "cell_type": "code",
   "execution_count": 12,
   "metadata": {},
   "outputs": [],
   "source": [
    "cnn=sql.connect('airlines.db')"
   ]
  },
  {
   "cell_type": "code",
   "execution_count": 13,
   "metadata": {},
   "outputs": [
    {
     "name": "stdout",
     "output_type": "stream",
     "text": [
      "The sql extension is already loaded. To reload it, use:\n",
      "  %reload_ext sql\n"
     ]
    }
   ],
   "source": [
    "%load_ext sql\n",
    "%sql sqlite:///airlines.db"
   ]
  },
  {
   "cell_type": "code",
   "execution_count": 17,
   "metadata": {},
   "outputs": [
    {
     "name": "stdout",
     "output_type": "stream",
     "text": [
      " * sqlite:///airlines.db\n",
      "Done.\n"
     ]
    },
    {
     "data": {
      "text/html": [
       "<table>\n",
       "    <thead>\n",
       "        <tr>\n",
       "            <th>name</th>\n",
       "        </tr>\n",
       "    </thead>\n",
       "    <tbody>\n",
       "    </tbody>\n",
       "</table>"
      ],
      "text/plain": [
       "[]"
      ]
     },
     "execution_count": 17,
     "metadata": {},
     "output_type": "execute_result"
    }
   ],
   "source": [
    "%%sql \n",
    "SELECT name FROM sqlite_master WHERE type='table'"
   ]
  },
  {
   "cell_type": "markdown",
   "metadata": {},
   "source": [
    "# clear the tables"
   ]
  },
  {
   "cell_type": "code",
   "execution_count": 16,
   "metadata": {},
   "outputs": [
    {
     "name": "stdout",
     "output_type": "stream",
     "text": [
      "Table Aircrafts dropped.\n",
      "Table AirFare dropped.\n",
      "Table Branches dropped.\n",
      "Table Charges dropped.\n",
      "Table Contact_Details dropped.\n",
      "Table Countries dropped.\n",
      "Table Discounts dropped.\n",
      "Table Employee dropped.\n",
      "Table Flight_Schedule dropped.\n",
      "Table Passengers dropped.\n",
      "Table Route dropped.\n",
      "Table State dropped.\n",
      "Table Transactions dropped.\n",
      "All tables have been dropped, and the database is now empty.\n"
     ]
    }
   ],
   "source": [
    "# clear the entire database\n",
    "# Connect to the SQLite database\n",
    "db = sql.connect(\"airlines.db\")\n",
    "cursor = db.cursor()\n",
    "\n",
    "# Disable foreign key constraints\n",
    "cursor.execute(\"PRAGMA foreign_keys = OFF;\")\n",
    "\n",
    "# Get all table names\n",
    "cursor.execute(\"SELECT name FROM sqlite_master WHERE type='table';\")\n",
    "tables = cursor.fetchall()\n",
    "\n",
    "# Drop each table\n",
    "for table_name in tables:\n",
    "    cursor.execute(f\"DROP TABLE IF EXISTS {table_name[0]};\")\n",
    "    print(f\"Table {table_name[0]} dropped.\")\n",
    "\n",
    "# Commit the changes and re-enable foreign key constraints\n",
    "db.commit()\n",
    "cursor.execute(\"PRAGMA foreign_keys = ON;\")\n",
    "\n",
    "# Close the database connection\n",
    "db.close()\n",
    "\n",
    "print(\"All tables have been dropped, and the database is now empty.\")"
   ]
  },
  {
   "cell_type": "code",
   "execution_count": null,
   "metadata": {},
   "outputs": [],
   "source": []
  }
 ],
 "metadata": {
  "kernelspec": {
   "display_name": "genai",
   "language": "python",
   "name": "python3"
  },
  "language_info": {
   "codemirror_mode": {
    "name": "ipython",
    "version": 3
   },
   "file_extension": ".py",
   "mimetype": "text/x-python",
   "name": "python",
   "nbconvert_exporter": "python",
   "pygments_lexer": "ipython3",
   "version": "3.10.15"
  }
 },
 "nbformat": 4,
 "nbformat_minor": 2
}
